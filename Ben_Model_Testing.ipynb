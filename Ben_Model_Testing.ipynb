{
 "cells": [
  {
   "cell_type": "code",
   "execution_count": 8,
   "metadata": {},
   "outputs": [],
   "source": [
    "import pandas as pd\n",
    "import numpy as np\n",
    "from data_cleaning import clean_flights_df, clean_passengers_df, avg_passengers, clean_fuel_df, avg_carrier_arr_delay, avg_fuel_use, avg_taxi_time"
   ]
  },
  {
   "cell_type": "code",
   "execution_count": 3,
   "metadata": {},
   "outputs": [
    {
     "data": {
      "text/html": [
       "<div>\n",
       "<style scoped>\n",
       "    .dataframe tbody tr th:only-of-type {\n",
       "        vertical-align: middle;\n",
       "    }\n",
       "\n",
       "    .dataframe tbody tr th {\n",
       "        vertical-align: top;\n",
       "    }\n",
       "\n",
       "    .dataframe thead th {\n",
       "        text-align: right;\n",
       "    }\n",
       "</style>\n",
       "<table border=\"1\" class=\"dataframe\">\n",
       "  <thead>\n",
       "    <tr style=\"text-align: right;\">\n",
       "      <th></th>\n",
       "      <th>fl_date</th>\n",
       "      <th>mkt_unique_carrier</th>\n",
       "      <th>branded_code_share</th>\n",
       "      <th>mkt_carrier_fl_num</th>\n",
       "      <th>op_unique_carrier</th>\n",
       "      <th>tail_num</th>\n",
       "      <th>op_carrier_fl_num</th>\n",
       "      <th>origin_airport_id</th>\n",
       "      <th>origin</th>\n",
       "      <th>origin_city_name</th>\n",
       "      <th>...</th>\n",
       "      <th>security_delay</th>\n",
       "      <th>late_aircraft_delay</th>\n",
       "      <th>first_dep_time</th>\n",
       "      <th>total_add_gtime</th>\n",
       "      <th>longest_add_gtime</th>\n",
       "      <th>year</th>\n",
       "      <th>month</th>\n",
       "      <th>day_of_month</th>\n",
       "      <th>day_of_week</th>\n",
       "      <th>dep_hour</th>\n",
       "    </tr>\n",
       "  </thead>\n",
       "  <tbody>\n",
       "    <tr>\n",
       "      <th>0</th>\n",
       "      <td>2019-07-17</td>\n",
       "      <td>UA</td>\n",
       "      <td>UA</td>\n",
       "      <td>613</td>\n",
       "      <td>UA</td>\n",
       "      <td>N454UA</td>\n",
       "      <td>613</td>\n",
       "      <td>14771</td>\n",
       "      <td>SFO</td>\n",
       "      <td>San Francisco, CA</td>\n",
       "      <td>...</td>\n",
       "      <td>0.0</td>\n",
       "      <td>0.0</td>\n",
       "      <td>0.0</td>\n",
       "      <td>0.0</td>\n",
       "      <td>0.0</td>\n",
       "      <td>2019</td>\n",
       "      <td>7</td>\n",
       "      <td>17</td>\n",
       "      <td>2</td>\n",
       "      <td>6</td>\n",
       "    </tr>\n",
       "    <tr>\n",
       "      <th>1</th>\n",
       "      <td>2018-06-09</td>\n",
       "      <td>WN</td>\n",
       "      <td>WN</td>\n",
       "      <td>5610</td>\n",
       "      <td>WN</td>\n",
       "      <td>N712SW</td>\n",
       "      <td>5610</td>\n",
       "      <td>10821</td>\n",
       "      <td>BWI</td>\n",
       "      <td>Baltimore, MD</td>\n",
       "      <td>...</td>\n",
       "      <td>0.0</td>\n",
       "      <td>7.0</td>\n",
       "      <td>0.0</td>\n",
       "      <td>0.0</td>\n",
       "      <td>0.0</td>\n",
       "      <td>2018</td>\n",
       "      <td>6</td>\n",
       "      <td>9</td>\n",
       "      <td>5</td>\n",
       "      <td>13</td>\n",
       "    </tr>\n",
       "    <tr>\n",
       "      <th>2</th>\n",
       "      <td>2019-11-06</td>\n",
       "      <td>B6</td>\n",
       "      <td>B6</td>\n",
       "      <td>737</td>\n",
       "      <td>B6</td>\n",
       "      <td>N705JB</td>\n",
       "      <td>737</td>\n",
       "      <td>10529</td>\n",
       "      <td>BDL</td>\n",
       "      <td>Hartford, CT</td>\n",
       "      <td>...</td>\n",
       "      <td>0.0</td>\n",
       "      <td>0.0</td>\n",
       "      <td>0.0</td>\n",
       "      <td>0.0</td>\n",
       "      <td>0.0</td>\n",
       "      <td>2019</td>\n",
       "      <td>11</td>\n",
       "      <td>6</td>\n",
       "      <td>2</td>\n",
       "      <td>6</td>\n",
       "    </tr>\n",
       "    <tr>\n",
       "      <th>3</th>\n",
       "      <td>2019-12-24</td>\n",
       "      <td>WN</td>\n",
       "      <td>WN</td>\n",
       "      <td>6221</td>\n",
       "      <td>WN</td>\n",
       "      <td>N8503A</td>\n",
       "      <td>6221</td>\n",
       "      <td>12889</td>\n",
       "      <td>LAS</td>\n",
       "      <td>Las Vegas, NV</td>\n",
       "      <td>...</td>\n",
       "      <td>0.0</td>\n",
       "      <td>0.0</td>\n",
       "      <td>0.0</td>\n",
       "      <td>0.0</td>\n",
       "      <td>0.0</td>\n",
       "      <td>2019</td>\n",
       "      <td>12</td>\n",
       "      <td>24</td>\n",
       "      <td>1</td>\n",
       "      <td>9</td>\n",
       "    </tr>\n",
       "    <tr>\n",
       "      <th>4</th>\n",
       "      <td>2018-01-14</td>\n",
       "      <td>WN</td>\n",
       "      <td>WN</td>\n",
       "      <td>2663</td>\n",
       "      <td>WN</td>\n",
       "      <td>N446WN</td>\n",
       "      <td>2663</td>\n",
       "      <td>13204</td>\n",
       "      <td>MCO</td>\n",
       "      <td>Orlando, FL</td>\n",
       "      <td>...</td>\n",
       "      <td>0.0</td>\n",
       "      <td>0.0</td>\n",
       "      <td>0.0</td>\n",
       "      <td>0.0</td>\n",
       "      <td>0.0</td>\n",
       "      <td>2018</td>\n",
       "      <td>1</td>\n",
       "      <td>14</td>\n",
       "      <td>6</td>\n",
       "      <td>20</td>\n",
       "    </tr>\n",
       "  </tbody>\n",
       "</table>\n",
       "<p>5 rows × 42 columns</p>\n",
       "</div>"
      ],
      "text/plain": [
       "     fl_date mkt_unique_carrier branded_code_share  mkt_carrier_fl_num   \n",
       "0 2019-07-17                 UA                 UA                 613  \\\n",
       "1 2018-06-09                 WN                 WN                5610   \n",
       "2 2019-11-06                 B6                 B6                 737   \n",
       "3 2019-12-24                 WN                 WN                6221   \n",
       "4 2018-01-14                 WN                 WN                2663   \n",
       "\n",
       "  op_unique_carrier tail_num  op_carrier_fl_num  origin_airport_id origin   \n",
       "0                UA   N454UA                613              14771    SFO  \\\n",
       "1                WN   N712SW               5610              10821    BWI   \n",
       "2                B6   N705JB                737              10529    BDL   \n",
       "3                WN   N8503A               6221              12889    LAS   \n",
       "4                WN   N446WN               2663              13204    MCO   \n",
       "\n",
       "    origin_city_name  ...  security_delay late_aircraft_delay first_dep_time   \n",
       "0  San Francisco, CA  ...             0.0                 0.0            0.0  \\\n",
       "1      Baltimore, MD  ...             0.0                 7.0            0.0   \n",
       "2       Hartford, CT  ...             0.0                 0.0            0.0   \n",
       "3      Las Vegas, NV  ...             0.0                 0.0            0.0   \n",
       "4        Orlando, FL  ...             0.0                 0.0            0.0   \n",
       "\n",
       "   total_add_gtime  longest_add_gtime  year  month  day_of_month  day_of_week   \n",
       "0              0.0                0.0  2019      7            17            2  \\\n",
       "1              0.0                0.0  2018      6             9            5   \n",
       "2              0.0                0.0  2019     11             6            2   \n",
       "3              0.0                0.0  2019     12            24            1   \n",
       "4              0.0                0.0  2018      1            14            6   \n",
       "\n",
       "   dep_hour  \n",
       "0         6  \n",
       "1        13  \n",
       "2         6  \n",
       "3         9  \n",
       "4        20  \n",
       "\n",
       "[5 rows x 42 columns]"
      ]
     },
     "execution_count": 3,
     "metadata": {},
     "output_type": "execute_result"
    }
   ],
   "source": [
    "flights_df = clean_flights_df('data/flights_sample.csv')\n",
    "flights_df.head()"
   ]
  },
  {
   "cell_type": "code",
   "execution_count": 4,
   "metadata": {},
   "outputs": [
    {
     "data": {
      "text/plain": [
       "(4681523, 42)"
      ]
     },
     "execution_count": 4,
     "metadata": {},
     "output_type": "execute_result"
    }
   ],
   "source": [
    "flights_df.shape"
   ]
  },
  {
   "cell_type": "code",
   "execution_count": 4,
   "metadata": {},
   "outputs": [
    {
     "data": {
      "text/plain": [
       "(2340762, 39)"
      ]
     },
     "execution_count": 4,
     "metadata": {},
     "output_type": "execute_result"
    }
   ],
   "source": [
    "flights_df = flights_df.sample(frac=.5, random_state=58)\n",
    "flights_df.shape"
   ]
  },
  {
   "cell_type": "code",
   "execution_count": 9,
   "metadata": {},
   "outputs": [],
   "source": [
    "passengers_df = clean_passengers_df('data/passengers.csv')\n",
    "fuel_df = clean_fuel_df('data/fuel_consumption.csv')"
   ]
  },
  {
   "attachments": {},
   "cell_type": "markdown",
   "metadata": {},
   "source": [
    "### Feature Selection/Engineering"
   ]
  },
  {
   "cell_type": "code",
   "execution_count": 10,
   "metadata": {},
   "outputs": [
    {
     "data": {
      "text/html": [
       "<div>\n",
       "<style scoped>\n",
       "    .dataframe tbody tr th:only-of-type {\n",
       "        vertical-align: middle;\n",
       "    }\n",
       "\n",
       "    .dataframe tbody tr th {\n",
       "        vertical-align: top;\n",
       "    }\n",
       "\n",
       "    .dataframe thead th {\n",
       "        text-align: right;\n",
       "    }\n",
       "</style>\n",
       "<table border=\"1\" class=\"dataframe\">\n",
       "  <thead>\n",
       "    <tr style=\"text-align: right;\">\n",
       "      <th></th>\n",
       "      <th>fl_date</th>\n",
       "      <th>mkt_unique_carrier</th>\n",
       "      <th>branded_code_share</th>\n",
       "      <th>mkt_carrier_fl_num</th>\n",
       "      <th>op_unique_carrier</th>\n",
       "      <th>tail_num</th>\n",
       "      <th>op_carrier_fl_num</th>\n",
       "      <th>origin_airport_id</th>\n",
       "      <th>origin</th>\n",
       "      <th>origin_city_name</th>\n",
       "      <th>...</th>\n",
       "      <th>year</th>\n",
       "      <th>month</th>\n",
       "      <th>day_of_month</th>\n",
       "      <th>day_of_week</th>\n",
       "      <th>dep_hour</th>\n",
       "      <th>taxi_mean_time</th>\n",
       "      <th>avg_carrier_arr_delay</th>\n",
       "      <th>monthly_avg_passengers</th>\n",
       "      <th>avg_monthly_fuel_gallons</th>\n",
       "      <th>avg_monthly_fuel_cost</th>\n",
       "    </tr>\n",
       "  </thead>\n",
       "  <tbody>\n",
       "    <tr>\n",
       "      <th>0</th>\n",
       "      <td>2019-07-17</td>\n",
       "      <td>UA</td>\n",
       "      <td>UA</td>\n",
       "      <td>613</td>\n",
       "      <td>UA</td>\n",
       "      <td>N454UA</td>\n",
       "      <td>613</td>\n",
       "      <td>14771</td>\n",
       "      <td>SFO</td>\n",
       "      <td>San Francisco, CA</td>\n",
       "      <td>...</td>\n",
       "      <td>2019</td>\n",
       "      <td>7</td>\n",
       "      <td>17</td>\n",
       "      <td>2</td>\n",
       "      <td>6</td>\n",
       "      <td>16.752303</td>\n",
       "      <td>7.13</td>\n",
       "      <td>7307.0</td>\n",
       "      <td>318082406.0</td>\n",
       "      <td>562197986.0</td>\n",
       "    </tr>\n",
       "    <tr>\n",
       "      <th>1</th>\n",
       "      <td>2018-06-09</td>\n",
       "      <td>WN</td>\n",
       "      <td>WN</td>\n",
       "      <td>5610</td>\n",
       "      <td>WN</td>\n",
       "      <td>N712SW</td>\n",
       "      <td>5610</td>\n",
       "      <td>10821</td>\n",
       "      <td>BWI</td>\n",
       "      <td>Baltimore, MD</td>\n",
       "      <td>...</td>\n",
       "      <td>2018</td>\n",
       "      <td>6</td>\n",
       "      <td>9</td>\n",
       "      <td>5</td>\n",
       "      <td>13</td>\n",
       "      <td>16.835148</td>\n",
       "      <td>3.61</td>\n",
       "      <td>7343.0</td>\n",
       "      <td>178747802.0</td>\n",
       "      <td>342753536.0</td>\n",
       "    </tr>\n",
       "    <tr>\n",
       "      <th>2</th>\n",
       "      <td>2019-11-06</td>\n",
       "      <td>B6</td>\n",
       "      <td>B6</td>\n",
       "      <td>737</td>\n",
       "      <td>B6</td>\n",
       "      <td>N705JB</td>\n",
       "      <td>737</td>\n",
       "      <td>10529</td>\n",
       "      <td>BDL</td>\n",
       "      <td>Hartford, CT</td>\n",
       "      <td>...</td>\n",
       "      <td>2019</td>\n",
       "      <td>11</td>\n",
       "      <td>6</td>\n",
       "      <td>2</td>\n",
       "      <td>6</td>\n",
       "      <td>16.033247</td>\n",
       "      <td>11.36</td>\n",
       "      <td>3571.0</td>\n",
       "      <td>62232826.0</td>\n",
       "      <td>117026858.0</td>\n",
       "    </tr>\n",
       "    <tr>\n",
       "      <th>3</th>\n",
       "      <td>2019-12-24</td>\n",
       "      <td>WN</td>\n",
       "      <td>WN</td>\n",
       "      <td>6221</td>\n",
       "      <td>WN</td>\n",
       "      <td>N8503A</td>\n",
       "      <td>6221</td>\n",
       "      <td>12889</td>\n",
       "      <td>LAS</td>\n",
       "      <td>Las Vegas, NV</td>\n",
       "      <td>...</td>\n",
       "      <td>2019</td>\n",
       "      <td>12</td>\n",
       "      <td>24</td>\n",
       "      <td>1</td>\n",
       "      <td>9</td>\n",
       "      <td>18.477049</td>\n",
       "      <td>3.61</td>\n",
       "      <td>2482.0</td>\n",
       "      <td>170009681.0</td>\n",
       "      <td>309959717.0</td>\n",
       "    </tr>\n",
       "    <tr>\n",
       "      <th>4</th>\n",
       "      <td>2018-01-14</td>\n",
       "      <td>WN</td>\n",
       "      <td>WN</td>\n",
       "      <td>2663</td>\n",
       "      <td>WN</td>\n",
       "      <td>N446WN</td>\n",
       "      <td>2663</td>\n",
       "      <td>13204</td>\n",
       "      <td>MCO</td>\n",
       "      <td>Orlando, FL</td>\n",
       "      <td>...</td>\n",
       "      <td>2018</td>\n",
       "      <td>1</td>\n",
       "      <td>14</td>\n",
       "      <td>6</td>\n",
       "      <td>20</td>\n",
       "      <td>18.140955</td>\n",
       "      <td>3.61</td>\n",
       "      <td>9528.0</td>\n",
       "      <td>157934010.0</td>\n",
       "      <td>296682409.0</td>\n",
       "    </tr>\n",
       "  </tbody>\n",
       "</table>\n",
       "<p>5 rows × 47 columns</p>\n",
       "</div>"
      ],
      "text/plain": [
       "     fl_date mkt_unique_carrier branded_code_share  mkt_carrier_fl_num   \n",
       "0 2019-07-17                 UA                 UA                 613  \\\n",
       "1 2018-06-09                 WN                 WN                5610   \n",
       "2 2019-11-06                 B6                 B6                 737   \n",
       "3 2019-12-24                 WN                 WN                6221   \n",
       "4 2018-01-14                 WN                 WN                2663   \n",
       "\n",
       "  op_unique_carrier tail_num  op_carrier_fl_num  origin_airport_id origin   \n",
       "0                UA   N454UA                613              14771    SFO  \\\n",
       "1                WN   N712SW               5610              10821    BWI   \n",
       "2                B6   N705JB                737              10529    BDL   \n",
       "3                WN   N8503A               6221              12889    LAS   \n",
       "4                WN   N446WN               2663              13204    MCO   \n",
       "\n",
       "    origin_city_name  ...  year month day_of_month  day_of_week dep_hour   \n",
       "0  San Francisco, CA  ...  2019     7           17            2        6  \\\n",
       "1      Baltimore, MD  ...  2018     6            9            5       13   \n",
       "2       Hartford, CT  ...  2019    11            6            2        6   \n",
       "3      Las Vegas, NV  ...  2019    12           24            1        9   \n",
       "4        Orlando, FL  ...  2018     1           14            6       20   \n",
       "\n",
       "   taxi_mean_time  avg_carrier_arr_delay  monthly_avg_passengers   \n",
       "0       16.752303                   7.13                  7307.0  \\\n",
       "1       16.835148                   3.61                  7343.0   \n",
       "2       16.033247                  11.36                  3571.0   \n",
       "3       18.477049                   3.61                  2482.0   \n",
       "4       18.140955                   3.61                  9528.0   \n",
       "\n",
       "   avg_monthly_fuel_gallons  avg_monthly_fuel_cost  \n",
       "0               318082406.0            562197986.0  \n",
       "1               178747802.0            342753536.0  \n",
       "2                62232826.0            117026858.0  \n",
       "3               170009681.0            309959717.0  \n",
       "4               157934010.0            296682409.0  \n",
       "\n",
       "[5 rows x 47 columns]"
      ]
     },
     "execution_count": 10,
     "metadata": {},
     "output_type": "execute_result"
    }
   ],
   "source": [
    "flights_df = avg_taxi_time(flights_df)\n",
    "flights_df = avg_carrier_arr_delay(flights_df)\n",
    "flights_df = avg_passengers(flights_df, passengers_df)\n",
    "flights_df = avg_fuel_use(flights_df, fuel_df)\n",
    "flights_df.head()"
   ]
  },
  {
   "cell_type": "code",
   "execution_count": 11,
   "metadata": {},
   "outputs": [],
   "source": [
    "del passengers_df\n",
    "del fuel_df"
   ]
  },
  {
   "cell_type": "code",
   "execution_count": 12,
   "metadata": {},
   "outputs": [],
   "source": [
    "y = flights_df['dep_delay']\n",
    "flights_df.drop('dep_delay', axis=1, inplace=True)"
   ]
  },
  {
   "cell_type": "code",
   "execution_count": 17,
   "metadata": {},
   "outputs": [],
   "source": [
    "features = flights_df.columns.tolist()\n",
    "col_to_remove = ['fl_date','air_time','dep_hour', 'tail_num','mkt_unique_carrier', 'branded_code_share', 'mkt_carrier_fl_num', 'op_carrier_fl_num', 'origin_airport_id', 'origin_city_name', 'dest_airport_id', 'dest_city_name', 'dep_time', 'taxi_out', 'wheels_off', 'wheels_on', 'taxi_in', 'arr_time', 'arr_delay', 'cancelled', 'actual_elapsed_time', 'flights', 'carrier_delay', 'weather_delay', 'nas_delay', 'security_delay', 'late_aircraft_delay', 'first_dep_time', 'total_add_gtime', 'longest_add_gtime',]"
   ]
  },
  {
   "cell_type": "code",
   "execution_count": 18,
   "metadata": {},
   "outputs": [
    {
     "data": {
      "text/plain": [
       "['fl_date',\n",
       " 'op_unique_carrier',\n",
       " 'tail_num',\n",
       " 'origin',\n",
       " 'dest',\n",
       " 'crs_dep_time',\n",
       " 'crs_arr_time',\n",
       " 'crs_elapsed_time',\n",
       " 'air_time',\n",
       " 'distance',\n",
       " 'year',\n",
       " 'month',\n",
       " 'day_of_month',\n",
       " 'day_of_week',\n",
       " 'dep_hour',\n",
       " 'taxi_mean_time',\n",
       " 'avg_carrier_arr_delay',\n",
       " 'monthly_avg_passengers',\n",
       " 'avg_monthly_fuel_gallons',\n",
       " 'avg_monthly_fuel_cost']"
      ]
     },
     "execution_count": 18,
     "metadata": {},
     "output_type": "execute_result"
    }
   ],
   "source": [
    "for col in col_to_remove:\n",
    "    features.remove(col)\n",
    "features"
   ]
  },
  {
   "cell_type": "code",
   "execution_count": 37,
   "metadata": {},
   "outputs": [
    {
     "ename": "KeyError",
     "evalue": "\"['fl_date', 'tail_num'] not in index\"",
     "output_type": "error",
     "traceback": [
      "\u001b[1;31m---------------------------------------------------------------------------\u001b[0m",
      "\u001b[1;31mKeyError\u001b[0m                                  Traceback (most recent call last)",
      "Cell \u001b[1;32mIn[37], line 1\u001b[0m\n\u001b[1;32m----> 1\u001b[0m flights_df \u001b[39m=\u001b[39m flights_df[features]\n\u001b[0;32m      2\u001b[0m flights_df\u001b[39m.\u001b[39mdrop(columns\u001b[39m=\u001b[39m[\u001b[39m'\u001b[39m\u001b[39mdep_hour\u001b[39m\u001b[39m'\u001b[39m], inplace\u001b[39m=\u001b[39m\u001b[39mTrue\u001b[39;00m)\n\u001b[0;32m      3\u001b[0m flights_df\u001b[39m.\u001b[39mhead()\n",
      "File \u001b[1;32mc:\\Users\\HP USER\\anaconda3\\envs\\lhl_data\\lib\\site-packages\\pandas\\core\\frame.py:3767\u001b[0m, in \u001b[0;36mDataFrame.__getitem__\u001b[1;34m(self, key)\u001b[0m\n\u001b[0;32m   3765\u001b[0m     \u001b[39mif\u001b[39;00m is_iterator(key):\n\u001b[0;32m   3766\u001b[0m         key \u001b[39m=\u001b[39m \u001b[39mlist\u001b[39m(key)\n\u001b[1;32m-> 3767\u001b[0m     indexer \u001b[39m=\u001b[39m \u001b[39mself\u001b[39;49m\u001b[39m.\u001b[39;49mcolumns\u001b[39m.\u001b[39;49m_get_indexer_strict(key, \u001b[39m\"\u001b[39;49m\u001b[39mcolumns\u001b[39;49m\u001b[39m\"\u001b[39;49m)[\u001b[39m1\u001b[39m]\n\u001b[0;32m   3769\u001b[0m \u001b[39m# take() does not accept boolean indexers\u001b[39;00m\n\u001b[0;32m   3770\u001b[0m \u001b[39mif\u001b[39;00m \u001b[39mgetattr\u001b[39m(indexer, \u001b[39m\"\u001b[39m\u001b[39mdtype\u001b[39m\u001b[39m\"\u001b[39m, \u001b[39mNone\u001b[39;00m) \u001b[39m==\u001b[39m \u001b[39mbool\u001b[39m:\n",
      "File \u001b[1;32mc:\\Users\\HP USER\\anaconda3\\envs\\lhl_data\\lib\\site-packages\\pandas\\core\\indexes\\base.py:5876\u001b[0m, in \u001b[0;36mIndex._get_indexer_strict\u001b[1;34m(self, key, axis_name)\u001b[0m\n\u001b[0;32m   5873\u001b[0m \u001b[39melse\u001b[39;00m:\n\u001b[0;32m   5874\u001b[0m     keyarr, indexer, new_indexer \u001b[39m=\u001b[39m \u001b[39mself\u001b[39m\u001b[39m.\u001b[39m_reindex_non_unique(keyarr)\n\u001b[1;32m-> 5876\u001b[0m \u001b[39mself\u001b[39;49m\u001b[39m.\u001b[39;49m_raise_if_missing(keyarr, indexer, axis_name)\n\u001b[0;32m   5878\u001b[0m keyarr \u001b[39m=\u001b[39m \u001b[39mself\u001b[39m\u001b[39m.\u001b[39mtake(indexer)\n\u001b[0;32m   5879\u001b[0m \u001b[39mif\u001b[39;00m \u001b[39misinstance\u001b[39m(key, Index):\n\u001b[0;32m   5880\u001b[0m     \u001b[39m# GH 42790 - Preserve name from an Index\u001b[39;00m\n",
      "File \u001b[1;32mc:\\Users\\HP USER\\anaconda3\\envs\\lhl_data\\lib\\site-packages\\pandas\\core\\indexes\\base.py:5938\u001b[0m, in \u001b[0;36mIndex._raise_if_missing\u001b[1;34m(self, key, indexer, axis_name)\u001b[0m\n\u001b[0;32m   5935\u001b[0m     \u001b[39mraise\u001b[39;00m \u001b[39mKeyError\u001b[39;00m(\u001b[39mf\u001b[39m\u001b[39m\"\u001b[39m\u001b[39mNone of [\u001b[39m\u001b[39m{\u001b[39;00mkey\u001b[39m}\u001b[39;00m\u001b[39m] are in the [\u001b[39m\u001b[39m{\u001b[39;00maxis_name\u001b[39m}\u001b[39;00m\u001b[39m]\u001b[39m\u001b[39m\"\u001b[39m)\n\u001b[0;32m   5937\u001b[0m not_found \u001b[39m=\u001b[39m \u001b[39mlist\u001b[39m(ensure_index(key)[missing_mask\u001b[39m.\u001b[39mnonzero()[\u001b[39m0\u001b[39m]]\u001b[39m.\u001b[39munique())\n\u001b[1;32m-> 5938\u001b[0m \u001b[39mraise\u001b[39;00m \u001b[39mKeyError\u001b[39;00m(\u001b[39mf\u001b[39m\u001b[39m\"\u001b[39m\u001b[39m{\u001b[39;00mnot_found\u001b[39m}\u001b[39;00m\u001b[39m not in index\u001b[39m\u001b[39m\"\u001b[39m)\n",
      "\u001b[1;31mKeyError\u001b[0m: \"['fl_date', 'tail_num'] not in index\""
     ]
    }
   ],
   "source": [
    "flights_df = flights_df[features]\n",
    "flights_df.head()"
   ]
  },
  {
   "cell_type": "code",
   "execution_count": 21,
   "metadata": {},
   "outputs": [
    {
     "data": {
      "text/plain": [
       "(4681523, 18)"
      ]
     },
     "execution_count": 21,
     "metadata": {},
     "output_type": "execute_result"
    }
   ],
   "source": [
    "flights_df.shape"
   ]
  },
  {
   "cell_type": "code",
   "execution_count": 40,
   "metadata": {},
   "outputs": [
    {
     "name": "stdout",
     "output_type": "stream",
     "text": [
      "<class 'pandas.core.frame.DataFrame'>\n",
      "RangeIndex: 4681523 entries, 0 to 4681522\n",
      "Data columns (total 16 columns):\n",
      " #   Column                    Dtype   \n",
      "---  ------                    -----   \n",
      " 0   op_unique_carrier         category\n",
      " 1   origin                    category\n",
      " 2   dest                      category\n",
      " 3   crs_dep_time              int64   \n",
      " 4   crs_arr_time              int64   \n",
      " 5   crs_elapsed_time          float64 \n",
      " 6   distance                  int64   \n",
      " 7   year                      int32   \n",
      " 8   month                     int32   \n",
      " 9   day_of_month              int32   \n",
      " 10  day_of_week               int32   \n",
      " 11  taxi_mean_time            float64 \n",
      " 12  avg_carrier_arr_delay     float64 \n",
      " 13  monthly_avg_passengers    float64 \n",
      " 14  avg_monthly_fuel_gallons  float64 \n",
      " 15  avg_monthly_fuel_cost     float64 \n",
      "dtypes: category(3), float64(6), int32(4), int64(3)\n",
      "memory usage: 415.2 MB\n"
     ]
    }
   ],
   "source": [
    "flights_df.info()"
   ]
  },
  {
   "cell_type": "code",
   "execution_count": 23,
   "metadata": {},
   "outputs": [
    {
     "data": {
      "text/plain": [
       "['op_unique_carrier', 'origin', 'dest']"
      ]
     },
     "execution_count": 23,
     "metadata": {},
     "output_type": "execute_result"
    }
   ],
   "source": [
    "cat_cols = flights_df.dtypes[flights_df.dtypes == 'object'].index.tolist()\n",
    "cat_cols"
   ]
  },
  {
   "cell_type": "code",
   "execution_count": 24,
   "metadata": {},
   "outputs": [
    {
     "name": "stdout",
     "output_type": "stream",
     "text": [
      "op_unique_carrier\n",
      "WN    797048\n",
      "DL    579670\n",
      "AA    547005\n",
      "OO    473061\n",
      "UA    370282\n",
      "YX    187717\n",
      "MQ    180145\n",
      "B6    177457\n",
      "OH    164381\n",
      "AS    151665\n",
      "9E    145075\n",
      "YV    129181\n",
      "NK    112397\n",
      "EV     97525\n",
      "F9     75084\n",
      "QX     69089\n",
      "PT     62825\n",
      "ZW     60112\n",
      "G4     59600\n",
      "CP     56974\n",
      "HA     50325\n",
      "G7     49504\n",
      "AX     45814\n",
      "C5     30195\n",
      "VX      5150\n",
      "EM      2901\n",
      "KS       825\n",
      "9K       516\n",
      "Name: count, dtype: int64\n",
      "origin\n",
      "ATL    233594\n",
      "ORD    231098\n",
      "DFW    171149\n",
      "DEN    162549\n",
      "LAX    148434\n",
      "        ...  \n",
      "BFM        46\n",
      "ROP        46\n",
      "AKN        36\n",
      "IFP        18\n",
      "YNG         1\n",
      "Name: count, Length: 376, dtype: int64\n",
      "dest\n",
      "ATL    234067\n",
      "ORD    228933\n",
      "DFW    170280\n",
      "DEN    162770\n",
      "LAX    148689\n",
      "        ...  \n",
      "ROP        51\n",
      "HYA        51\n",
      "BFM        47\n",
      "AKN        43\n",
      "IFP        12\n",
      "Name: count, Length: 375, dtype: int64\n"
     ]
    }
   ],
   "source": [
    "for col in cat_cols:\n",
    "    print(flights_df[col].value_counts())"
   ]
  },
  {
   "cell_type": "code",
   "execution_count": 25,
   "metadata": {},
   "outputs": [
    {
     "data": {
      "text/plain": [
       "(4681523,)"
      ]
     },
     "execution_count": 25,
     "metadata": {},
     "output_type": "execute_result"
    }
   ],
   "source": [
    "y.shape"
   ]
  },
  {
   "attachments": {},
   "cell_type": "markdown",
   "metadata": {},
   "source": [
    "## Attempt at XGBoost"
   ]
  },
  {
   "cell_type": "code",
   "execution_count": 27,
   "metadata": {},
   "outputs": [
    {
     "name": "stdout",
     "output_type": "stream",
     "text": [
      "<class 'pandas.core.frame.DataFrame'>\n",
      "RangeIndex: 4681523 entries, 0 to 4681522\n",
      "Data columns (total 18 columns):\n",
      " #   Column                    Dtype   \n",
      "---  ------                    -----   \n",
      " 0   op_unique_carrier         category\n",
      " 1   origin                    category\n",
      " 2   dest                      category\n",
      " 3   crs_dep_time              int64   \n",
      " 4   crs_arr_time              int64   \n",
      " 5   crs_elapsed_time          float64 \n",
      " 6   air_time                  float64 \n",
      " 7   distance                  int64   \n",
      " 8   year                      int32   \n",
      " 9   month                     int32   \n",
      " 10  day_of_month              int32   \n",
      " 11  day_of_week               int32   \n",
      " 12  dep_hour                  int64   \n",
      " 13  taxi_mean_time            float64 \n",
      " 14  avg_carrier_arr_delay     float64 \n",
      " 15  monthly_avg_passengers    float64 \n",
      " 16  avg_monthly_fuel_gallons  float64 \n",
      " 17  avg_monthly_fuel_cost     float64 \n",
      "dtypes: category(3), float64(7), int32(4), int64(4)\n",
      "memory usage: 486.7 MB\n"
     ]
    }
   ],
   "source": [
    "cats = flights_df.select_dtypes(exclude=np.number).columns.tolist()\n",
    "\n",
    "for col in cats:\n",
    "    flights_df[col] = flights_df[col].astype('category')\n",
    "\n",
    "\n",
    "flights_df.info()"
   ]
  },
  {
   "cell_type": "code",
   "execution_count": 41,
   "metadata": {},
   "outputs": [
    {
     "name": "stdout",
     "output_type": "stream",
     "text": [
      "(3277066, 16) (1404457, 16)\n"
     ]
    }
   ],
   "source": [
    "from sklearn.model_selection import train_test_split\n",
    "X_train, X_test, y_train, y_test = train_test_split(flights_df, y, test_size=.3, random_state=58)\n",
    "print(X_train.shape, X_test.shape)"
   ]
  },
  {
   "cell_type": "code",
   "execution_count": 42,
   "metadata": {},
   "outputs": [],
   "source": [
    "import xgboost as xgb\n",
    "\n",
    "dtrain_reg = xgb.DMatrix(X_train, y_train, enable_categorical=True)\n",
    "dtest_reg = xgb.DMatrix(X_test, y_test, enable_categorical=True)"
   ]
  },
  {
   "cell_type": "code",
   "execution_count": 43,
   "metadata": {},
   "outputs": [
    {
     "name": "stdout",
     "output_type": "stream",
     "text": [
      "[0]\ttrain-rmse:43.89251\tvalidation-rmse:43.85487\n",
      "[25]\ttrain-rmse:19.28694\tvalidation-rmse:20.74748\n",
      "[50]\ttrain-rmse:16.17433\tvalidation-rmse:18.34799\n",
      "[75]\ttrain-rmse:15.35684\tvalidation-rmse:17.95480\n",
      "[100]\ttrain-rmse:14.71314\tvalidation-rmse:17.66720\n",
      "[125]\ttrain-rmse:14.38764\tvalidation-rmse:17.61021\n",
      "[150]\ttrain-rmse:14.03467\tvalidation-rmse:17.48176\n",
      "[175]\ttrain-rmse:13.67778\tvalidation-rmse:17.38611\n",
      "[200]\ttrain-rmse:13.44554\tvalidation-rmse:17.34211\n",
      "[225]\ttrain-rmse:13.26121\tvalidation-rmse:17.28696\n",
      "[250]\ttrain-rmse:13.08451\tvalidation-rmse:17.25720\n",
      "[275]\ttrain-rmse:12.94758\tvalidation-rmse:17.24153\n",
      "[300]\ttrain-rmse:12.83122\tvalidation-rmse:17.23887\n",
      "[325]\ttrain-rmse:12.74366\tvalidation-rmse:17.22619\n",
      "[350]\ttrain-rmse:12.66164\tvalidation-rmse:17.22113\n",
      "[375]\ttrain-rmse:12.57186\tvalidation-rmse:17.22119\n",
      "[400]\ttrain-rmse:12.50052\tvalidation-rmse:17.21923\n",
      "[425]\ttrain-rmse:12.37959\tvalidation-rmse:17.22290\n",
      "[437]\ttrain-rmse:12.34874\tvalidation-rmse:17.22327\n"
     ]
    }
   ],
   "source": [
    "params = {'objective':'reg:squarederror', 'tree_method':'hist'}\n",
    "n=1000\n",
    "evals=[(dtrain_reg, 'train'), (dtest_reg, 'validation')]\n",
    "\n",
    "model = xgb.train(\n",
    "    params=params,\n",
    "    dtrain=dtrain_reg,\n",
    "    num_boost_round=n,\n",
    "    evals=evals,\n",
    "    verbose_eval=25,\n",
    "    early_stopping_rounds=50\n",
    ")\n"
   ]
  },
  {
   "cell_type": "code",
   "execution_count": null,
   "metadata": {},
   "outputs": [],
   "source": []
  },
  {
   "cell_type": "code",
   "execution_count": 44,
   "metadata": {},
   "outputs": [],
   "source": [
    "y_pred = model.predict(dtest_reg)"
   ]
  },
  {
   "cell_type": "code",
   "execution_count": 45,
   "metadata": {},
   "outputs": [
    {
     "name": "stdout",
     "output_type": "stream",
     "text": [
      "17.223273636912335\n",
      "0.8683704062536945\n"
     ]
    }
   ],
   "source": [
    "from sklearn.metrics import r2_score, mean_squared_error\n",
    "\n",
    "print(mean_squared_error(y_test, y_pred, squared=False))\n",
    "print(r2_score(y_test, y_pred))"
   ]
  },
  {
   "cell_type": "code",
   "execution_count": 46,
   "metadata": {},
   "outputs": [
    {
     "data": {
      "text/plain": [
       "Index(['op_unique_carrier', 'origin', 'dest', 'crs_dep_time', 'crs_arr_time',\n",
       "       'crs_elapsed_time', 'distance', 'year', 'month', 'day_of_month',\n",
       "       'day_of_week', 'taxi_mean_time', 'avg_carrier_arr_delay',\n",
       "       'monthly_avg_passengers', 'avg_monthly_fuel_gallons',\n",
       "       'avg_monthly_fuel_cost'],\n",
       "      dtype='object')"
      ]
     },
     "execution_count": 46,
     "metadata": {},
     "output_type": "execute_result"
    }
   ],
   "source": [
    "flights_df.columns"
   ]
  },
  {
   "cell_type": "code",
   "execution_count": 39,
   "metadata": {},
   "outputs": [],
   "source": [
    "flights_df.drop(columns=[], inplace=True)"
   ]
  },
  {
   "cell_type": "code",
   "execution_count": null,
   "metadata": {},
   "outputs": [],
   "source": []
  }
 ],
 "metadata": {
  "kernelspec": {
   "display_name": "lhl_data",
   "language": "python",
   "name": "python3"
  },
  "language_info": {
   "codemirror_mode": {
    "name": "ipython",
    "version": 3
   },
   "file_extension": ".py",
   "mimetype": "text/x-python",
   "name": "python",
   "nbconvert_exporter": "python",
   "pygments_lexer": "ipython3",
   "version": "3.8.16"
  },
  "orig_nbformat": 4
 },
 "nbformat": 4,
 "nbformat_minor": 2
}
